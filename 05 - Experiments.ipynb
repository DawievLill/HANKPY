{
 "cells": [
  {
   "cell_type": "markdown",
   "metadata": {},
   "source": [
    "# Setup"
   ]
  },
  {
   "cell_type": "code",
   "execution_count": null,
   "metadata": {},
   "outputs": [],
   "source": [
    "from consav.runtools import write_numba_config\n",
    "write_numba_config(disable=0,threads=20,threading_layer='omp')"
   ]
  },
  {
   "cell_type": "code",
   "execution_count": null,
   "metadata": {},
   "outputs": [],
   "source": [
    "import matplotlib.pyplot as plt\n",
    "plt.style.use('seaborn-whitegrid')\n",
    "colors = [x['color'] for x in plt.style.library['seaborn']['axes.prop_cycle']]\n",
    "markers = ['s','P','D','v','^','*']"
   ]
  },
  {
   "cell_type": "code",
   "execution_count": null,
   "metadata": {},
   "outputs": [],
   "source": [
    "import time\n",
    "import numpy as np\n",
    "\n",
    "%load_ext autoreload\n",
    "%autoreload 2\n",
    "\n",
    "from TwoAssetModelCont import TwoAssetModelContClass\n",
    "import modelfuncs"
   ]
  },
  {
   "cell_type": "markdown",
   "metadata": {},
   "source": [
    "# Experiments"
   ]
  },
  {
   "cell_type": "code",
   "execution_count": null,
   "metadata": {},
   "outputs": [],
   "source": [
    "model = TwoAssetModelContClass(name='calibration',load=True)"
   ]
  },
  {
   "cell_type": "code",
   "execution_count": null,
   "metadata": {},
   "outputs": [],
   "source": [
    "rbs = np.array([0.003, 0.004, 0.005, 0.006, 0.007])\n",
    "ras = np.zeros(rbs.size)\n",
    "BYs = np.zeros(rbs.size)\n",
    "\n",
    "for i,rb in enumerate(rbs):\n",
    "    \n",
    "    print(f'rb = {rb}')\n",
    "    model.par.rb = rb\n",
    "    KN0 = model.moms['K_supply']/model.moms['N_supply']\n",
    "    Pi0 = model.moms['Pi']\n",
    "    model.find_ra(KN0=KN0,Pi0=Pi0,tol=1e-5)\n",
    "    \n",
    "    ras[i] = model.par.ra\n",
    "    BYs[i] = model.moms['BY']"
   ]
  },
  {
   "cell_type": "markdown",
   "metadata": {},
   "source": [
    "# Figures"
   ]
  },
  {
   "cell_type": "code",
   "execution_count": null,
   "metadata": {},
   "outputs": [],
   "source": [
    "fig = plt.figure()\n",
    "ax = fig.add_subplot(1,1,1)\n",
    "ax.plot(rbs,ras,'-o')\n",
    "ax.set_xlabel('$r^b$')\n",
    "ax.set_ylabel('$r^a$')\n",
    "ax.legend(frameon=True)\n",
    "fig.tight_layout()\n",
    "fig.savefig(f'figs/rb_ra.pdf')"
   ]
  },
  {
   "cell_type": "code",
   "execution_count": null,
   "metadata": {},
   "outputs": [],
   "source": [
    "fig = plt.figure()\n",
    "ax = fig.add_subplot(1,1,1)\n",
    "ax.plot(BYs,rbs,'-o',label='$r^b')\n",
    "ax.plot(BYs,ras,'-o',label='$r^a$')\n",
    "ax.set_xlabel('government debt / annual GDP')\n",
    "ax.set_ylabel('')\n",
    "ax.legend(frameon=True)\n",
    "fig.tight_layout()\n",
    "fig.savefig(f'figs/BY_rb_ra.pdf')"
   ]
  }
 ],
 "metadata": {
  "kernelspec": {
   "display_name": "Python 3",
   "language": "python",
   "name": "python3"
  },
  "language_info": {
   "codemirror_mode": {
    "name": "ipython",
    "version": 3
   },
   "file_extension": ".py",
   "mimetype": "text/x-python",
   "name": "python",
   "nbconvert_exporter": "python",
   "pygments_lexer": "ipython3",
   "version": "3.7.4"
  },
  "toc-autonumbering": true
 },
 "nbformat": 4,
 "nbformat_minor": 4
}
